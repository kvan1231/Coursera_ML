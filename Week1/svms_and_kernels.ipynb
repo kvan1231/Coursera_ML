{
 "cells": [
  {
   "cell_type": "markdown",
   "metadata": {},
   "source": [
    "<font color=red>This is a draft version and the notebook is incomplete and the statements do not match the data at this point. It will be fixed soon.</font>"
   ]
  },
  {
   "cell_type": "markdown",
   "metadata": {},
   "source": [
    "# SVMs and Kernels"
   ]
  },
  {
   "cell_type": "markdown",
   "metadata": {},
   "source": [
    "In this notebook you will fit a Support Vector Machine (SVM) classifer to data using scikit-learn. You will use different kernels and see how kernels produce nonlinear decision surfaces. You will also predict the labels for datapoints and measure the performance of the SVM."
   ]
  },
  {
   "cell_type": "markdown",
   "metadata": {},
   "source": [
    "## Before you start"
   ]
  },
  {
   "cell_type": "markdown",
   "metadata": {},
   "source": [
    "- In order for the notebooks to function as intended, modify only between lines marked \"### begin your code here (__ lines).\" and \"### end your code here.\". \n",
    "\n",
    "- The line count is a suggestion of how many lines of code you need to accomplish what is asked.\n",
    "\n",
    "- You should execute the cells (the boxes that a notebook is composed of) in order.\n",
    "\n",
    "- You can execute a cell by pressing Shift and Enter (or Return) simultaneously.\n",
    "\n",
    "- You should have completed the previous Jupyter notebooks before attempting this one as the concepts covered there are not repeated, for the sake of brevity."
   ]
  },
  {
   "cell_type": "markdown",
   "metadata": {},
   "source": [
    "## Loading the appropriate packages"
   ]
  },
  {
   "cell_type": "markdown",
   "metadata": {},
   "source": [
    "We will import SVM classifier class (SVC) as well some other packages you will use."
   ]
  },
  {
   "cell_type": "code",
   "execution_count": null,
   "metadata": {},
   "outputs": [],
   "source": [
    "import numpy as np\n",
    "from sklearn.svm import SVC\n",
    "from sklearn.model_selection import train_test_split\n",
    "from sklearn.metrics import accuracy_score\n",
    "from sklearn.preprocessing import LabelEncoder\n",
    "import pandas as pd\n",
    "import plotly.graph_objs as go"
   ]
  },
  {
   "cell_type": "markdown",
   "metadata": {},
   "source": [
    "Let's turn off the scientific notation for floating point numbers."
   ]
  },
  {
   "cell_type": "code",
   "execution_count": null,
   "metadata": {},
   "outputs": [],
   "source": [
    "np.set_printoptions(suppress=True)"
   ]
  },
  {
   "cell_type": "markdown",
   "metadata": {},
   "source": [
    "## Loading and examining the data"
   ]
  },
  {
   "cell_type": "markdown",
   "metadata": {},
   "source": [
    "We will load our data from a CSV file and put it in a pandas an object of the `DataFrame` class.\n",
    "\n",
    "This dataset is the breast cancer Wisconsin (diagnostic) dataset which contains 30 different features computed from a images of a fine needle aspirate (FNA) of breast masses for 569 patients with each example labeled as being a _benign_ or _malignant_ mass.\n",
    "\n",
    "* This was taken and modified from the Machine Learning dataset repository of School of Information and Computer Science of University of California Irvine (UCI):\n",
    " \n",
    "> _Dua, D. and Graff, C. (2019). UCI Machine Learning Repository [http://archive.ics.uci.edu/ml]. Irvine, CA: University of California, School of Information and Computer Science._"
   ]
  },
  {
   "cell_type": "code",
   "execution_count": null,
   "metadata": {},
   "outputs": [],
   "source": [
    "df = pd.read_csv('data_svms_and_kernels.csv')"
   ]
  },
  {
   "cell_type": "markdown",
   "metadata": {},
   "source": [
    "Let's take a look at the data:"
   ]
  },
  {
   "cell_type": "code",
   "execution_count": null,
   "metadata": {},
   "outputs": [],
   "source": [
    "df"
   ]
  },
  {
   "cell_type": "markdown",
   "metadata": {},
   "source": [
    "To do that we first need to extract our data from the dataframe in NumPy arrays. We use `LabelEncoder` from scikit-learn to transform labels into $\\{-1,+1\\}$:"
   ]
  },
  {
   "cell_type": "code",
   "execution_count": null,
   "metadata": {},
   "outputs": [],
   "source": [
    "X = df.drop('Label', axis=1).to_numpy()\n",
    "y_text = df['Label'].to_numpy()\n",
    "y = (2 * LabelEncoder().fit_transform(y_text)) - 1"
   ]
  },
  {
   "cell_type": "markdown",
   "metadata": {},
   "source": [
    "Let's check `X`, `y_text` and `y`:"
   ]
  },
  {
   "cell_type": "code",
   "execution_count": null,
   "metadata": {},
   "outputs": [],
   "source": [
    "X"
   ]
  },
  {
   "cell_type": "code",
   "execution_count": null,
   "metadata": {},
   "outputs": [],
   "source": [
    "X.shape"
   ]
  },
  {
   "cell_type": "markdown",
   "metadata": {},
   "source": [
    "Let's do the same thing for `y_text`:"
   ]
  },
  {
   "cell_type": "code",
   "execution_count": null,
   "metadata": {},
   "outputs": [],
   "source": [
    "y_text"
   ]
  },
  {
   "cell_type": "markdown",
   "metadata": {},
   "source": [
    "...and for shape of `y_text`:"
   ]
  },
  {
   "cell_type": "code",
   "execution_count": null,
   "metadata": {},
   "outputs": [],
   "source": [
    "y_text.shape"
   ]
  },
  {
   "cell_type": "markdown",
   "metadata": {},
   "source": [
    "Finally, let's check `y`:"
   ]
  },
  {
   "cell_type": "code",
   "execution_count": null,
   "metadata": {},
   "outputs": [],
   "source": [
    "y"
   ]
  },
  {
   "cell_type": "code",
   "execution_count": null,
   "metadata": {},
   "outputs": [],
   "source": [
    "y.shape"
   ]
  },
  {
   "cell_type": "markdown",
   "metadata": {},
   "source": [
    "Let's also do a scatter plot of our data:"
   ]
  },
  {
   "cell_type": "code",
   "execution_count": null,
   "metadata": {},
   "outputs": [],
   "source": [
    "points_colorscale = [\n",
    "                     [0.0, 'rgb(239, 85, 59)'],\n",
    "                     [1.0, 'rgb(99, 110, 250)'],\n",
    "                    ]\n",
    "\n",
    "points = go.Scatter(\n",
    "                    x=df['Feature 1'],\n",
    "                    y=df['Feature 2'],\n",
    "                    mode='markers',\n",
    "                    marker=dict(color=y,\n",
    "                                colorscale=points_colorscale)\n",
    "                   )\n",
    "layout = go.Layout(\n",
    "                   xaxis=dict(range=[-1.05, 1.05]),\n",
    "                   yaxis=dict(range=[-1.05, 1.05])\n",
    "                  )\n",
    "\n",
    "fig = go.Figure(data=[points], layout=layout)\n",
    "fig.show()"
   ]
  },
  {
   "cell_type": "markdown",
   "metadata": {},
   "source": [
    "## Splitting data"
   ]
  },
  {
   "cell_type": "markdown",
   "metadata": {},
   "source": [
    "Let's split our data into training, validation and test sets. Let's use 60% for training, 20% for validation and  20% for test data."
   ]
  },
  {
   "cell_type": "code",
   "execution_count": null,
   "metadata": {},
   "outputs": [],
   "source": [
    "(X_train, X_vt, y_train, y_vt) = train_test_split(X, y, test_size=0.4, random_state=0)\n",
    "(X_validation, X_test, y_validation, y_test) = train_test_split(X_vt, y_vt, test_size=0.5, random_state=0)"
   ]
  },
  {
   "cell_type": "markdown",
   "metadata": {},
   "source": [
    "## Building and visualizing a SVM"
   ]
  },
  {
   "cell_type": "markdown",
   "metadata": {},
   "source": [
    "Finally, let's build our SVM. We will use the `SVC` class from scikit-learn. For now, we are not using kernels, so we should set the `kernel` argument of `SVC` to `'linear'`. We don't need to specify any other parameters for now. You can find the documentation for `SVC` here:\n",
    "\n",
    "https://scikit-learn.org/stable/modules/generated/sklearn.svm.SVC.html\n",
    "\n",
    "So, make an object of class `SVC` and assign it to the name `svm`:"
   ]
  },
  {
   "cell_type": "code",
   "execution_count": null,
   "metadata": {},
   "outputs": [],
   "source": [
    "### begin your code here (1 line).\n",
    "\n",
    "### end your code here."
   ]
  },
  {
   "cell_type": "markdown",
   "metadata": {},
   "source": [
    "Now, fit `svm` to `X_train` and `y_train`:"
   ]
  },
  {
   "cell_type": "code",
   "execution_count": null,
   "metadata": {},
   "outputs": [],
   "source": [
    "### begin your code here (1 line).\n",
    "\n",
    "### end your code here."
   ]
  },
  {
   "cell_type": "markdown",
   "metadata": {},
   "source": [
    "You will get a summary for the model:\n",
    "\n",
    "> SVC(C=1.0, cache_size=200, class_weight=None, coef0=0.0,\n",
    ">   decision_function_shape='ovr', degree=3, gamma='auto_deprecated',\n",
    ">   kernel='rbf', max_iter=-1, probability=False, random_state=None,\n",
    ">   shrinking=True, tol=0.001, verbose=False)\n",
    "\n",
    "* You may also get a warning because you have not explicitly set gamma and the default setting for that is going to change in newer versions of scikit-learn. Don't worry about that warniong.\n",
    "\n",
    "Let's visualize the decision surface our `svm` with its supprt vectors:"
   ]
  },
  {
   "cell_type": "code",
   "execution_count": null,
   "metadata": {},
   "outputs": [],
   "source": [
    "decision_colorscale = [\n",
    "                       [0.0, 'rgb(239,  85,  59)'],\n",
    "                       [0.5, 'rgb(  0,   0,   0)'],\n",
    "                       [1.0, 'rgb( 99, 110, 250)']\n",
    "                      ]\n",
    "\n",
    "detail_steps = 100\n",
    "\n",
    "(x_vis_0_min, x_vis_1_min) = (-1.05, -1.05) #X_train.min(axis=0)\n",
    "(x_vis_0_max, x_vis_1_max) = ( 1.05,  1.05) #X_train.max(axis=0)\n",
    "\n",
    "x_vis_0_range = np.linspace(x_vis_0_min, x_vis_0_max, detail_steps)\n",
    "x_vis_1_range = np.linspace(x_vis_1_min, x_vis_1_max, detail_steps)\n",
    "\n",
    "(XX_vis_0, XX_vis_1) = np.meshgrid(x_vis_0_range, x_vis_0_range)\n",
    "\n",
    "X_vis = np.c_[XX_vis_0.reshape(-1), XX_vis_1.reshape(-1)]\n",
    "\n",
    "YY_vis = svm.decision_function(X_vis).reshape(XX_vis_0.shape)\n",
    "\n",
    "points = go.Scatter(\n",
    "                    x=df['Feature 1'],\n",
    "                    y=df['Feature 2'],\n",
    "                    mode='markers',\n",
    "                    marker=dict(\n",
    "                                color=y,\n",
    "                                colorscale=points_colorscale),\n",
    "                    showlegend=False\n",
    "                   )\n",
    "SVs = svm.support_vectors_\n",
    "support_vectors = go.Scatter(\n",
    "                             x=SVs[:, 0],\n",
    "                             y=SVs[:, 1],\n",
    "                             mode='markers',\n",
    "                             marker=dict(\n",
    "                                         size=15,\n",
    "                                         color='black',\n",
    "                                         opacity = 0.1,\n",
    "                                         colorscale=points_colorscale),\n",
    "                             line=dict(dash='solid'),\n",
    "                             showlegend=False\n",
    "                            )\n",
    "\n",
    "decision_surface = go.Contour(x=x_vis_0_range,\n",
    "                              y=x_vis_1_range,\n",
    "                              z=YY_vis,\n",
    "                              contours_coloring='lines',\n",
    "                              line_width=2,\n",
    "                              contours=dict(\n",
    "                                            start=0,\n",
    "                                            end=0,\n",
    "                                            size=1),\n",
    "                              colorscale=decision_colorscale,\n",
    "                              showscale=False\n",
    "                             )\n",
    "\n",
    "margins = go.Contour(x=x_vis_0_range,\n",
    "                     y=x_vis_1_range,\n",
    "                     z=YY_vis,\n",
    "                     contours_coloring='lines',\n",
    "                     line_width=2,\n",
    "                     contours=dict(\n",
    "                                   start=-1,\n",
    "                                   end=1,\n",
    "                                   size=2),\n",
    "                     line=dict(dash='dash'),\n",
    "                     colorscale=decision_colorscale,\n",
    "                     showscale=False\n",
    "                    )\n",
    "\n",
    "fig2 = go.Figure(data=[margins, decision_surface, support_vectors, points], layout=layout)\n",
    "fig2.show()"
   ]
  },
  {
   "cell_type": "markdown",
   "metadata": {},
   "source": [
    "The datapoints, the decision surface (which is a line here), the margins and the support vectors are shown in the plot."
   ]
  },
  {
   "cell_type": "markdown",
   "metadata": {},
   "source": [
    "## Kernels"
   ]
  },
  {
   "cell_type": "markdown",
   "metadata": {},
   "source": [
    "As you can see, the decision surface is underfiiting the data. Let's use a polynomial kernel. Define `svm_p2` to be an instance of class `SVC` but this time with arguments `kernel='poly'` and `degree=2` to define a degree-2 polynomial kernel:"
   ]
  },
  {
   "cell_type": "code",
   "execution_count": null,
   "metadata": {},
   "outputs": [],
   "source": [
    "### begin your code here (1 line).\n",
    "\n",
    "### end your code here."
   ]
  },
  {
   "cell_type": "markdown",
   "metadata": {},
   "source": [
    "..and fit it to your training data:"
   ]
  },
  {
   "cell_type": "code",
   "execution_count": null,
   "metadata": {},
   "outputs": [],
   "source": [
    "### begin your code here (1 line).\n",
    "\n",
    "### end your code here."
   ]
  },
  {
   "cell_type": "markdown",
   "metadata": {},
   "source": [
    "You will get a summary of your model:\n",
    "    \n",
    "> SVC(C=1.0, cache_size=200, class_weight=None, coef0=0.0,\n",
    ">   decision_function_shape='ovr', degree=2, gamma='auto_deprecated',\n",
    ">   kernel='poly', max_iter=-1, probability=False, random_state=None,\n",
    ">   shrinking=True, tol=0.001, verbose=False)\n",
    "\n",
    "Now, let's visualize this model:"
   ]
  },
  {
   "cell_type": "code",
   "execution_count": null,
   "metadata": {},
   "outputs": [],
   "source": [
    "YY_vis_p2 = svm_p2.decision_function(X_vis).reshape(XX_vis_0.shape)\n",
    "\n",
    "SVs_p2 = svm_p2.support_vectors_\n",
    "support_vectors_p2 = go.Scatter(\n",
    "                                x=SVs_p2[:, 0],\n",
    "                                y=SVs_p2[:, 1],\n",
    "                                mode='markers',\n",
    "                                marker=dict(\n",
    "                                            size=15,\n",
    "                                            color='black',\n",
    "                                            opacity = 0.1,\n",
    "                                            colorscale=points_colorscale),\n",
    "                                line=dict(dash='solid'),\n",
    "                                showlegend=False\n",
    "                               )\n",
    "\n",
    "decision_surface_p2 = go.Contour(x=x_vis_0_range,\n",
    "                                 y=x_vis_1_range,\n",
    "                                 z=YY_vis_p2,\n",
    "                                 contours_coloring='lines',\n",
    "                                 line_width=2,\n",
    "                                 contours=dict(\n",
    "                                               start=0,\n",
    "                                               end=0,\n",
    "                                               size=1),\n",
    "                                 colorscale=decision_colorscale,\n",
    "                                 showscale=False\n",
    "                                )\n",
    "\n",
    "margins_p2 = go.Contour(x=x_vis_0_range,\n",
    "                        y=x_vis_1_range,\n",
    "                        z=YY_vis_p2,\n",
    "                        contours_coloring='lines',\n",
    "                        line_width=2,\n",
    "                        contours=dict(\n",
    "                                      start=-1,\n",
    "                                      end=1,\n",
    "                                      size=2),\n",
    "                        line=dict(dash='dash'),\n",
    "                        colorscale=decision_colorscale,\n",
    "                        showscale=False\n",
    "                       )\n",
    "\n",
    "fig3 = go.Figure(data=[margins_p2, decision_surface_p2, support_vectors_p2, points], layout=layout)\n",
    "fig3.show()"
   ]
  },
  {
   "cell_type": "markdown",
   "metadata": {},
   "source": [
    "Looks much better. But let's try a degree 3 model. Define `svm_p3` like `svm_p2` but with `degree=3` this time:"
   ]
  },
  {
   "cell_type": "code",
   "execution_count": null,
   "metadata": {},
   "outputs": [],
   "source": [
    "### begin your code here (1 line).\n",
    "\n",
    "### end your code here."
   ]
  },
  {
   "cell_type": "markdown",
   "metadata": {},
   "source": [
    "Next, fit your `svm_p3` model to the training data:"
   ]
  },
  {
   "cell_type": "code",
   "execution_count": null,
   "metadata": {},
   "outputs": [],
   "source": [
    "### begin your code here (1 line).\n",
    "\n",
    "### end your code here."
   ]
  },
  {
   "cell_type": "markdown",
   "metadata": {},
   "source": [
    "Your model summary will be:\n",
    "\n",
    "> SVC(C=1.0, cache_size=200, class_weight=None, coef0=0.0,\n",
    ">   decision_function_shape='ovr', degree=3, gamma='auto_deprecated',\n",
    ">   kernel='poly', max_iter=-1, probability=False, random_state=None,\n",
    ">   shrinking=True, tol=0.001, verbose=False)\n",
    "\n",
    "Let's visualize `svm_p3`:"
   ]
  },
  {
   "cell_type": "code",
   "execution_count": null,
   "metadata": {},
   "outputs": [],
   "source": [
    "YY_vis_p3 = svm_p3.decision_function(X_vis).reshape(XX_vis_0.shape)\n",
    "\n",
    "SVs_p3 = svm_p3.support_vectors_\n",
    "support_vectors_p3 = go.Scatter(\n",
    "                                x=SVs_p3[:, 0],\n",
    "                                y=SVs_p3[:, 1],\n",
    "                                mode='markers',\n",
    "                                marker=dict(\n",
    "                                            size=15,\n",
    "                                            color='black',\n",
    "                                            opacity = 0.1,\n",
    "                                            colorscale=points_colorscale),\n",
    "                                line=dict(dash='solid'),\n",
    "                                showlegend=False\n",
    "                               )\n",
    "\n",
    "decision_surface_p3 = go.Contour(x=x_vis_0_range,\n",
    "                                 y=x_vis_1_range,\n",
    "                                 z=YY_vis_p3,\n",
    "                                 contours_coloring='lines',\n",
    "                                 line_width=2,\n",
    "                                 contours=dict(\n",
    "                                               start=0,\n",
    "                                               end=0,\n",
    "                                               size=1),\n",
    "                                 colorscale=decision_colorscale,\n",
    "                                 showscale=False\n",
    "                                )\n",
    "\n",
    "margins_p3 = go.Contour(x=x_vis_0_range,\n",
    "                        y=x_vis_1_range,\n",
    "                        z=YY_vis_p3,\n",
    "                        contours_coloring='lines',\n",
    "                        line_width=2,\n",
    "                        contours=dict(\n",
    "                                      start=-1,\n",
    "                                      end=1,\n",
    "                                      size=2),\n",
    "                        line=dict(dash='dash'),\n",
    "                        colorscale=decision_colorscale,\n",
    "                        showscale=False\n",
    "                       )\n",
    "\n",
    "fig4 = go.Figure(data=[margins_p3, decision_surface_p3, support_vectors_p3, points], layout=layout)\n",
    "fig4.show()"
   ]
  },
  {
   "cell_type": "markdown",
   "metadata": {},
   "source": [
    "Let's try a RBF (Radial Basis Function) kernel as well. RBFs are the default kernel for scikit-learn's SVC. So build a model `svm_r` with either `kernel=rbf` argument setting or just skip the `kernel` (also the `degree` argument is uselss here, since we are not using a polynomial kernel, so just skip that): "
   ]
  },
  {
   "cell_type": "code",
   "execution_count": null,
   "metadata": {},
   "outputs": [],
   "source": [
    "### begin your code here (1 line).\n",
    "\n",
    "### end your code here."
   ]
  },
  {
   "cell_type": "markdown",
   "metadata": {},
   "source": [
    "Fit your `svm_r` model to the training data as well:"
   ]
  },
  {
   "cell_type": "code",
   "execution_count": null,
   "metadata": {},
   "outputs": [],
   "source": [
    "### begin your code here (1 line).\n",
    "\n",
    "### end your code here."
   ]
  },
  {
   "cell_type": "markdown",
   "metadata": {},
   "source": [
    "This will be the parameter summary:\n",
    "\n",
    "> SVC(C=1.0, cache_size=200, class_weight=None, coef0=0.0,\n",
    ">   decision_function_shape='ovr', degree=3, gamma='auto_deprecated',\n",
    ">   kernel='rbf', max_iter=-1, probability=False, random_state=None,\n",
    ">   shrinking=True, tol=0.001, verbose=False)\n",
    "\n",
    "We will visualize this model as well:"
   ]
  },
  {
   "cell_type": "code",
   "execution_count": null,
   "metadata": {},
   "outputs": [],
   "source": [
    "YY_vis_r = svm_r.decision_function(X_vis).reshape(XX_vis_0.shape)\n",
    "\n",
    "SVs_r = svm_r.support_vectors_\n",
    "support_vectors_r = go.Scatter(\n",
    "                                x=SVs_r[:, 0],\n",
    "                                y=SVs_r[:, 1],\n",
    "                                mode='markers',\n",
    "                                marker=dict(\n",
    "                                            size=15,\n",
    "                                            color='black',\n",
    "                                            opacity = 0.1,\n",
    "                                            colorscale=points_colorscale),\n",
    "                                line=dict(dash='solid'),\n",
    "                                showlegend=False\n",
    "                               )\n",
    "\n",
    "decision_surface_r = go.Contour(x=x_vis_0_range,\n",
    "                                 y=x_vis_1_range,\n",
    "                                 z=YY_vis_r,\n",
    "                                 contours_coloring='lines',\n",
    "                                 line_width=2,\n",
    "                                 contours=dict(\n",
    "                                               start=0,\n",
    "                                               end=0,\n",
    "                                               size=1),\n",
    "                                 colorscale=decision_colorscale,\n",
    "                                 showscale=False\n",
    "                                )\n",
    "\n",
    "margins_r = go.Contour(x=x_vis_0_range,\n",
    "                        y=x_vis_1_range,\n",
    "                        z=YY_vis_r,\n",
    "                        contours_coloring='lines',\n",
    "                        line_width=2,\n",
    "                        contours=dict(\n",
    "                                      start=-1,\n",
    "                                      end=1,\n",
    "                                      size=2),\n",
    "                        line=dict(dash='dash'),\n",
    "                        colorscale=decision_colorscale,\n",
    "                        showscale=False\n",
    "                       )\n",
    "\n",
    "fig5 = go.Figure(data=[margins_r, decision_surface_r, support_vectors_r, points], layout=layout)\n",
    "fig5.show()"
   ]
  },
  {
   "cell_type": "markdown",
   "metadata": {},
   "source": [
    "## Model selection"
   ]
  },
  {
   "cell_type": "markdown",
   "metadata": {},
   "source": [
    "Let's pick the best model then. We will use the validation data for that. Let's predict using `svm` and `X_train` and assign it the name `yhat_train`. Also, predict `X_validation` and assign it the name `yhat_validation` (. The closeness of the accuracy of predictions on these two datasets will be helpful to us):"
   ]
  },
  {
   "cell_type": "code",
   "execution_count": null,
   "metadata": {},
   "outputs": [],
   "source": [
    "### begin your code here (2 lines).\n",
    "\n",
    "\n",
    "### end your code here."
   ]
  },
  {
   "cell_type": "markdown",
   "metadata": {},
   "source": [
    "Let's measure the accuracy:"
   ]
  },
  {
   "cell_type": "code",
   "execution_count": null,
   "metadata": {},
   "outputs": [],
   "source": [
    "print(accuracy_score(yhat_train, y_train), accuracy_score(yhat_validation, y_validation))"
   ]
  },
  {
   "cell_type": "markdown",
   "metadata": {},
   "source": [
    "We got ??.??% and ??.?%.\n",
    "\n",
    "Let's repeat thge predictions for `svm_p2` and put the results in `yhat_train_p2` and `yhat_validation_p2`:"
   ]
  },
  {
   "cell_type": "code",
   "execution_count": null,
   "metadata": {},
   "outputs": [],
   "source": [
    "### begin your code here (2 lines).\n",
    "\n",
    "\n",
    "### end your code here."
   ]
  },
  {
   "cell_type": "markdown",
   "metadata": {},
   "source": [
    "We can calculate the accuracies:"
   ]
  },
  {
   "cell_type": "code",
   "execution_count": null,
   "metadata": {},
   "outputs": [],
   "source": [
    "print(accuracy_score(yhat_train_p2, y_train), accuracy_score(yhat_validation_p2, y_validation))"
   ]
  },
  {
   "cell_type": "markdown",
   "metadata": {},
   "source": [
    "??.??% and ??.??%.\n",
    "\n",
    "Let's try predicting with `svm_p3` and put it in `yhat_train_p3` and `yhat_validation_p3`:"
   ]
  },
  {
   "cell_type": "code",
   "execution_count": null,
   "metadata": {},
   "outputs": [],
   "source": [
    "### begin your code here (2 lines).\n",
    "\n",
    "\n",
    "### end your code here."
   ]
  },
  {
   "cell_type": "markdown",
   "metadata": {},
   "source": [
    "Now, if we predict the accuracy on these:"
   ]
  },
  {
   "cell_type": "code",
   "execution_count": null,
   "metadata": {},
   "outputs": [],
   "source": [
    "print(accuracy_score(yhat_train_p3, y_train), accuracy_score(yhat_validation_p3, y_validation))"
   ]
  },
  {
   "cell_type": "markdown",
   "metadata": {},
   "source": [
    "The accuracy is ??.??% and ??.??%.\n",
    "\n",
    "Finally, let's predict `yhat_train_r` and `yhat_validatin_r` using `svm_r`:"
   ]
  },
  {
   "cell_type": "code",
   "execution_count": null,
   "metadata": {},
   "outputs": [],
   "source": [
    "### begin your code here (2 lines).\n",
    "\n",
    "\n",
    "### end your code here."
   ]
  },
  {
   "cell_type": "markdown",
   "metadata": {},
   "source": [
    "We can measure the accuracy of the SVM with RBF kernel:"
   ]
  },
  {
   "cell_type": "code",
   "execution_count": null,
   "metadata": {},
   "outputs": [],
   "source": [
    "print(accuracy_score(yhat_train_r, y_train), accuracy_score(yhat_validation_r, y_validation))"
   ]
  },
  {
   "cell_type": "markdown",
   "metadata": {},
   "source": [
    "We got ??.??% and ??.??% when using the RBF kernel.\n",
    "\n",
    "From all these number we can see that the RBF model works best as the accuracy on validation data is high and also the gap between the accuracy on training and validation data is not big. We can further tune the generalization power of our model by tuning the argument `C` of `SVC` which is the inverse of a regularization coefficient. We won't do that here now though. "
   ]
  },
  {
   "cell_type": "markdown",
   "metadata": {},
   "source": [
    "## Final assessment"
   ]
  },
  {
   "cell_type": "markdown",
   "metadata": {},
   "source": [
    "Finally, let's check accuracy on the test data to get a final performance number. Predict `yhat_test_r` from `X_test` on `svm_r`:"
   ]
  },
  {
   "cell_type": "code",
   "execution_count": null,
   "metadata": {},
   "outputs": [],
   "source": [
    "### begin your code here (1 line).\n",
    "\n",
    "### end your code here.\n",
    "accuracy_score(yhat_test_r, y_test)"
   ]
  },
  {
   "cell_type": "markdown",
   "metadata": {},
   "source": [
    "??.??%. We have good performance of test data."
   ]
  }
 ],
 "metadata": {
  "kernelspec": {
   "display_name": "Python 3",
   "language": "python",
   "name": "python3"
  },
  "language_info": {
   "codemirror_mode": {
    "name": "ipython",
    "version": 3
   },
   "file_extension": ".py",
   "mimetype": "text/x-python",
   "name": "python",
   "nbconvert_exporter": "python",
   "pygments_lexer": "ipython3",
   "version": "3.7.3"
  }
 },
 "nbformat": 4,
 "nbformat_minor": 2
}
